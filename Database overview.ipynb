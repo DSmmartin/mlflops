{
    "metadata": {
        "kernelspec": {
            "name": "SQL",
            "display_name": "SQL",
            "language": "sql"
        },
        "language_info": {
            "name": "sql",
            "version": ""
        }
    },
    "nbformat_minor": 2,
    "nbformat": 4,
    "cells": [
        {
            "cell_type": "code",
            "source": [
                "SELECT *\n",
                "FROM public.experiments"
            ],
            "metadata": {
                "azdata_cell_guid": "adb435a8-8fdf-4271-8937-3336203eaa99",
                "language": "sql"
            },
            "outputs": [
                {
                    "output_type": "display_data",
                    "data": {
                        "text/html": "(1 row(s) affected)"
                    },
                    "metadata": {}
                },
                {
                    "output_type": "display_data",
                    "data": {
                        "text/html": "Total execution time: 00:00:00.210"
                    },
                    "metadata": {}
                },
                {
                    "output_type": "execute_result",
                    "metadata": {},
                    "execution_count": 1,
                    "data": {
                        "application/vnd.dataresource+json": {
                            "schema": {
                                "fields": [
                                    {
                                        "name": "experiment_id"
                                    },
                                    {
                                        "name": "name"
                                    },
                                    {
                                        "name": "artifact_location"
                                    },
                                    {
                                        "name": "lifecycle_stage"
                                    },
                                    {
                                        "name": "creation_time"
                                    },
                                    {
                                        "name": "last_update_time"
                                    }
                                ]
                            },
                            "data": [
                                {
                                    "0": "0",
                                    "1": "Default",
                                    "2": "./mlflowruns/0",
                                    "3": "active",
                                    "4": "NULL",
                                    "5": "NULL"
                                }
                            ]
                        },
                        "text/html": [
                            "<table>",
                            "<tr><th>experiment_id</th><th>name</th><th>artifact_location</th><th>lifecycle_stage</th><th>creation_time</th><th>last_update_time</th></tr>",
                            "<tr><td>0</td><td>Default</td><td>./mlflowruns/0</td><td>active</td><td>NULL</td><td>NULL</td></tr>",
                            "</table>"
                        ]
                    }
                }
            ],
            "execution_count": 1
        },
        {
            "cell_type": "code",
            "source": [
                "SELECT *\n",
                "FROM public.latest_metrics"
            ],
            "metadata": {
                "language": "sql",
                "azdata_cell_guid": "b617f3b5-c4f6-4552-8957-6f58cd0f12c0"
            },
            "outputs": [
                {
                    "output_type": "display_data",
                    "data": {
                        "text/html": "(21 row(s) affected)"
                    },
                    "metadata": {}
                },
                {
                    "output_type": "display_data",
                    "data": {
                        "text/html": "Total execution time: 00:00:05.491"
                    },
                    "metadata": {}
                },
                {
                    "output_type": "execute_result",
                    "metadata": {},
                    "execution_count": 2,
                    "data": {
                        "application/vnd.dataresource+json": {
                            "schema": {
                                "fields": [
                                    {
                                        "name": "key"
                                    },
                                    {
                                        "name": "value"
                                    },
                                    {
                                        "name": "timestamp"
                                    },
                                    {
                                        "name": "step"
                                    },
                                    {
                                        "name": "is_nan"
                                    },
                                    {
                                        "name": "run_uuid"
                                    }
                                ]
                            },
                            "data": [
                                {
                                    "0": "foo",
                                    "1": "7.0",
                                    "2": "1666284501175",
                                    "3": "0",
                                    "4": "False",
                                    "5": "c47e19af914a4f00ae0851268801c252"
                                },
                                {
                                    "0": "random_int",
                                    "1": "14.0",
                                    "2": "1666284501496",
                                    "3": "0",
                                    "4": "False",
                                    "5": "c47e19af914a4f00ae0851268801c252"
                                },
                                {
                                    "0": "rmse",
                                    "1": "0.82224284975954",
                                    "2": "1666373428806",
                                    "3": "0",
                                    "4": "False",
                                    "5": "66cd6899156b44d1a3269cab61b3e3cf"
                                },
                                {
                                    "0": "r2",
                                    "1": "0.126787219727727",
                                    "2": "1666373429108",
                                    "3": "0",
                                    "4": "False",
                                    "5": "66cd6899156b44d1a3269cab61b3e3cf"
                                },
                                {
                                    "0": "mae",
                                    "1": "0.627876141016069",
                                    "2": "1666373429395",
                                    "3": "0",
                                    "4": "False",
                                    "5": "66cd6899156b44d1a3269cab61b3e3cf"
                                },
                                {
                                    "0": "training_mse",
                                    "1": "0.682639749182361",
                                    "2": "1666373884284",
                                    "3": "0",
                                    "4": "False",
                                    "5": "8edf15322c774ed1b4b5b85621966b01"
                                },
                                {
                                    "0": "training_mae",
                                    "1": "0.633809973977764",
                                    "2": "1666373884284",
                                    "3": "0",
                                    "4": "False",
                                    "5": "8edf15322c774ed1b4b5b85621966b01"
                                },
                                {
                                    "0": "training_r2_score",
                                    "1": "0.133126778322433",
                                    "2": "1666373884284",
                                    "3": "0",
                                    "4": "False",
                                    "5": "8edf15322c774ed1b4b5b85621966b01"
                                },
                                {
                                    "0": "training_rmse",
                                    "1": "0.826220157816524",
                                    "2": "1666373884284",
                                    "3": "0",
                                    "4": "False",
                                    "5": "8edf15322c774ed1b4b5b85621966b01"
                                },
                                {
                                    "0": "training_score",
                                    "1": "0.133126778322433",
                                    "2": "1666373884297",
                                    "3": "0",
                                    "4": "False",
                                    "5": "8edf15322c774ed1b4b5b85621966b01"
                                },
                                {
                                    "0": "rmse",
                                    "1": "0.82224284975954",
                                    "2": "1666373889359",
                                    "3": "0",
                                    "4": "False",
                                    "5": "8edf15322c774ed1b4b5b85621966b01"
                                },
                                {
                                    "0": "r2",
                                    "1": "0.126787219727727",
                                    "2": "1666373889657",
                                    "3": "0",
                                    "4": "False",
                                    "5": "8edf15322c774ed1b4b5b85621966b01"
                                },
                                {
                                    "0": "mae",
                                    "1": "0.627876141016069",
                                    "2": "1666373889958",
                                    "3": "0",
                                    "4": "False",
                                    "5": "8edf15322c774ed1b4b5b85621966b01"
                                },
                                {
                                    "0": "training_mse",
                                    "1": "0.682639749182361",
                                    "2": "1666374159417",
                                    "3": "0",
                                    "4": "False",
                                    "5": "5b095b96a4854e2c8ecd42f8a954f235"
                                },
                                {
                                    "0": "training_mae",
                                    "1": "0.633809973977764",
                                    "2": "1666374159417",
                                    "3": "0",
                                    "4": "False",
                                    "5": "5b095b96a4854e2c8ecd42f8a954f235"
                                },
                                {
                                    "0": "training_r2_score",
                                    "1": "0.133126778322433",
                                    "2": "1666374159417",
                                    "3": "0",
                                    "4": "False",
                                    "5": "5b095b96a4854e2c8ecd42f8a954f235"
                                },
                                {
                                    "0": "training_rmse",
                                    "1": "0.826220157816524",
                                    "2": "1666374159417",
                                    "3": "0",
                                    "4": "False",
                                    "5": "5b095b96a4854e2c8ecd42f8a954f235"
                                },
                                {
                                    "0": "training_score",
                                    "1": "0.133126778322433",
                                    "2": "1666374159438",
                                    "3": "0",
                                    "4": "False",
                                    "5": "5b095b96a4854e2c8ecd42f8a954f235"
                                },
                                {
                                    "0": "rmse",
                                    "1": "0.82224284975954",
                                    "2": "1666374165103",
                                    "3": "0",
                                    "4": "False",
                                    "5": "e1192c7d0bda4ee5b88a3d5701ccf2ad"
                                },
                                {
                                    "0": "r2",
                                    "1": "0.126787219727727",
                                    "2": "1666374165401",
                                    "3": "0",
                                    "4": "False",
                                    "5": "e1192c7d0bda4ee5b88a3d5701ccf2ad"
                                },
                                {
                                    "0": "mae",
                                    "1": "0.627876141016069",
                                    "2": "1666374165709",
                                    "3": "0",
                                    "4": "False",
                                    "5": "e1192c7d0bda4ee5b88a3d5701ccf2ad"
                                }
                            ]
                        },
                        "text/html": [
                            "<table>",
                            "<tr><th>key</th><th>value</th><th>timestamp</th><th>step</th><th>is_nan</th><th>run_uuid</th></tr>",
                            "<tr><td>foo</td><td>7.0</td><td>1666284501175</td><td>0</td><td>False</td><td>c47e19af914a4f00ae0851268801c252</td></tr>",
                            "<tr><td>random_int</td><td>14.0</td><td>1666284501496</td><td>0</td><td>False</td><td>c47e19af914a4f00ae0851268801c252</td></tr>",
                            "<tr><td>rmse</td><td>0.82224284975954</td><td>1666373428806</td><td>0</td><td>False</td><td>66cd6899156b44d1a3269cab61b3e3cf</td></tr>",
                            "<tr><td>r2</td><td>0.126787219727727</td><td>1666373429108</td><td>0</td><td>False</td><td>66cd6899156b44d1a3269cab61b3e3cf</td></tr>",
                            "<tr><td>mae</td><td>0.627876141016069</td><td>1666373429395</td><td>0</td><td>False</td><td>66cd6899156b44d1a3269cab61b3e3cf</td></tr>",
                            "<tr><td>training_mse</td><td>0.682639749182361</td><td>1666373884284</td><td>0</td><td>False</td><td>8edf15322c774ed1b4b5b85621966b01</td></tr>",
                            "<tr><td>training_mae</td><td>0.633809973977764</td><td>1666373884284</td><td>0</td><td>False</td><td>8edf15322c774ed1b4b5b85621966b01</td></tr>",
                            "<tr><td>training_r2_score</td><td>0.133126778322433</td><td>1666373884284</td><td>0</td><td>False</td><td>8edf15322c774ed1b4b5b85621966b01</td></tr>",
                            "<tr><td>training_rmse</td><td>0.826220157816524</td><td>1666373884284</td><td>0</td><td>False</td><td>8edf15322c774ed1b4b5b85621966b01</td></tr>",
                            "<tr><td>training_score</td><td>0.133126778322433</td><td>1666373884297</td><td>0</td><td>False</td><td>8edf15322c774ed1b4b5b85621966b01</td></tr>",
                            "<tr><td>rmse</td><td>0.82224284975954</td><td>1666373889359</td><td>0</td><td>False</td><td>8edf15322c774ed1b4b5b85621966b01</td></tr>",
                            "<tr><td>r2</td><td>0.126787219727727</td><td>1666373889657</td><td>0</td><td>False</td><td>8edf15322c774ed1b4b5b85621966b01</td></tr>",
                            "<tr><td>mae</td><td>0.627876141016069</td><td>1666373889958</td><td>0</td><td>False</td><td>8edf15322c774ed1b4b5b85621966b01</td></tr>",
                            "<tr><td>training_mse</td><td>0.682639749182361</td><td>1666374159417</td><td>0</td><td>False</td><td>5b095b96a4854e2c8ecd42f8a954f235</td></tr>",
                            "<tr><td>training_mae</td><td>0.633809973977764</td><td>1666374159417</td><td>0</td><td>False</td><td>5b095b96a4854e2c8ecd42f8a954f235</td></tr>",
                            "<tr><td>training_r2_score</td><td>0.133126778322433</td><td>1666374159417</td><td>0</td><td>False</td><td>5b095b96a4854e2c8ecd42f8a954f235</td></tr>",
                            "<tr><td>training_rmse</td><td>0.826220157816524</td><td>1666374159417</td><td>0</td><td>False</td><td>5b095b96a4854e2c8ecd42f8a954f235</td></tr>",
                            "<tr><td>training_score</td><td>0.133126778322433</td><td>1666374159438</td><td>0</td><td>False</td><td>5b095b96a4854e2c8ecd42f8a954f235</td></tr>",
                            "<tr><td>rmse</td><td>0.82224284975954</td><td>1666374165103</td><td>0</td><td>False</td><td>e1192c7d0bda4ee5b88a3d5701ccf2ad</td></tr>",
                            "<tr><td>r2</td><td>0.126787219727727</td><td>1666374165401</td><td>0</td><td>False</td><td>e1192c7d0bda4ee5b88a3d5701ccf2ad</td></tr>",
                            "<tr><td>mae</td><td>0.627876141016069</td><td>1666374165709</td><td>0</td><td>False</td><td>e1192c7d0bda4ee5b88a3d5701ccf2ad</td></tr>",
                            "</table>"
                        ]
                    }
                }
            ],
            "execution_count": 2
        },
        {
            "cell_type": "code",
            "source": [
                "SELECT *\n",
                "FROM public.metrics"
            ],
            "metadata": {
                "language": "sql",
                "azdata_cell_guid": "4fb479b3-1e1d-424c-8c14-feafa4e1ef69"
            },
            "outputs": [
                {
                    "output_type": "display_data",
                    "data": {
                        "text/html": "(23 row(s) affected)"
                    },
                    "metadata": {}
                },
                {
                    "output_type": "display_data",
                    "data": {
                        "text/html": "Total execution time: 00:00:00.215"
                    },
                    "metadata": {}
                },
                {
                    "output_type": "execute_result",
                    "metadata": {},
                    "execution_count": 3,
                    "data": {
                        "application/vnd.dataresource+json": {
                            "schema": {
                                "fields": [
                                    {
                                        "name": "key"
                                    },
                                    {
                                        "name": "value"
                                    },
                                    {
                                        "name": "timestamp"
                                    },
                                    {
                                        "name": "run_uuid"
                                    },
                                    {
                                        "name": "step"
                                    },
                                    {
                                        "name": "is_nan"
                                    }
                                ]
                            },
                            "data": [
                                {
                                    "0": "foo",
                                    "1": "5.0",
                                    "2": "1666284500527",
                                    "3": "c47e19af914a4f00ae0851268801c252",
                                    "4": "0",
                                    "5": "False"
                                },
                                {
                                    "0": "foo",
                                    "1": "6.0",
                                    "2": "1666284500855",
                                    "3": "c47e19af914a4f00ae0851268801c252",
                                    "4": "0",
                                    "5": "False"
                                },
                                {
                                    "0": "foo",
                                    "1": "7.0",
                                    "2": "1666284501175",
                                    "3": "c47e19af914a4f00ae0851268801c252",
                                    "4": "0",
                                    "5": "False"
                                },
                                {
                                    "0": "random_int",
                                    "1": "14.0",
                                    "2": "1666284501496",
                                    "3": "c47e19af914a4f00ae0851268801c252",
                                    "4": "0",
                                    "5": "False"
                                },
                                {
                                    "0": "rmse",
                                    "1": "0.82224284975954",
                                    "2": "1666373428806",
                                    "3": "66cd6899156b44d1a3269cab61b3e3cf",
                                    "4": "0",
                                    "5": "False"
                                },
                                {
                                    "0": "r2",
                                    "1": "0.126787219727727",
                                    "2": "1666373429108",
                                    "3": "66cd6899156b44d1a3269cab61b3e3cf",
                                    "4": "0",
                                    "5": "False"
                                },
                                {
                                    "0": "mae",
                                    "1": "0.627876141016069",
                                    "2": "1666373429395",
                                    "3": "66cd6899156b44d1a3269cab61b3e3cf",
                                    "4": "0",
                                    "5": "False"
                                },
                                {
                                    "0": "training_mse",
                                    "1": "0.682639749182361",
                                    "2": "1666373884284",
                                    "3": "8edf15322c774ed1b4b5b85621966b01",
                                    "4": "0",
                                    "5": "False"
                                },
                                {
                                    "0": "training_mae",
                                    "1": "0.633809973977764",
                                    "2": "1666373884284",
                                    "3": "8edf15322c774ed1b4b5b85621966b01",
                                    "4": "0",
                                    "5": "False"
                                },
                                {
                                    "0": "training_r2_score",
                                    "1": "0.133126778322433",
                                    "2": "1666373884284",
                                    "3": "8edf15322c774ed1b4b5b85621966b01",
                                    "4": "0",
                                    "5": "False"
                                },
                                {
                                    "0": "training_rmse",
                                    "1": "0.826220157816524",
                                    "2": "1666373884284",
                                    "3": "8edf15322c774ed1b4b5b85621966b01",
                                    "4": "0",
                                    "5": "False"
                                },
                                {
                                    "0": "training_score",
                                    "1": "0.133126778322433",
                                    "2": "1666373884297",
                                    "3": "8edf15322c774ed1b4b5b85621966b01",
                                    "4": "0",
                                    "5": "False"
                                },
                                {
                                    "0": "rmse",
                                    "1": "0.82224284975954",
                                    "2": "1666373889359",
                                    "3": "8edf15322c774ed1b4b5b85621966b01",
                                    "4": "0",
                                    "5": "False"
                                },
                                {
                                    "0": "r2",
                                    "1": "0.126787219727727",
                                    "2": "1666373889657",
                                    "3": "8edf15322c774ed1b4b5b85621966b01",
                                    "4": "0",
                                    "5": "False"
                                },
                                {
                                    "0": "mae",
                                    "1": "0.627876141016069",
                                    "2": "1666373889958",
                                    "3": "8edf15322c774ed1b4b5b85621966b01",
                                    "4": "0",
                                    "5": "False"
                                },
                                {
                                    "0": "training_mse",
                                    "1": "0.682639749182361",
                                    "2": "1666374159417",
                                    "3": "5b095b96a4854e2c8ecd42f8a954f235",
                                    "4": "0",
                                    "5": "False"
                                },
                                {
                                    "0": "training_mae",
                                    "1": "0.633809973977764",
                                    "2": "1666374159417",
                                    "3": "5b095b96a4854e2c8ecd42f8a954f235",
                                    "4": "0",
                                    "5": "False"
                                },
                                {
                                    "0": "training_r2_score",
                                    "1": "0.133126778322433",
                                    "2": "1666374159417",
                                    "3": "5b095b96a4854e2c8ecd42f8a954f235",
                                    "4": "0",
                                    "5": "False"
                                },
                                {
                                    "0": "training_rmse",
                                    "1": "0.826220157816524",
                                    "2": "1666374159417",
                                    "3": "5b095b96a4854e2c8ecd42f8a954f235",
                                    "4": "0",
                                    "5": "False"
                                },
                                {
                                    "0": "training_score",
                                    "1": "0.133126778322433",
                                    "2": "1666374159438",
                                    "3": "5b095b96a4854e2c8ecd42f8a954f235",
                                    "4": "0",
                                    "5": "False"
                                },
                                {
                                    "0": "rmse",
                                    "1": "0.82224284975954",
                                    "2": "1666374165103",
                                    "3": "e1192c7d0bda4ee5b88a3d5701ccf2ad",
                                    "4": "0",
                                    "5": "False"
                                },
                                {
                                    "0": "r2",
                                    "1": "0.126787219727727",
                                    "2": "1666374165401",
                                    "3": "e1192c7d0bda4ee5b88a3d5701ccf2ad",
                                    "4": "0",
                                    "5": "False"
                                },
                                {
                                    "0": "mae",
                                    "1": "0.627876141016069",
                                    "2": "1666374165709",
                                    "3": "e1192c7d0bda4ee5b88a3d5701ccf2ad",
                                    "4": "0",
                                    "5": "False"
                                }
                            ]
                        },
                        "text/html": [
                            "<table>",
                            "<tr><th>key</th><th>value</th><th>timestamp</th><th>run_uuid</th><th>step</th><th>is_nan</th></tr>",
                            "<tr><td>foo</td><td>5.0</td><td>1666284500527</td><td>c47e19af914a4f00ae0851268801c252</td><td>0</td><td>False</td></tr>",
                            "<tr><td>foo</td><td>6.0</td><td>1666284500855</td><td>c47e19af914a4f00ae0851268801c252</td><td>0</td><td>False</td></tr>",
                            "<tr><td>foo</td><td>7.0</td><td>1666284501175</td><td>c47e19af914a4f00ae0851268801c252</td><td>0</td><td>False</td></tr>",
                            "<tr><td>random_int</td><td>14.0</td><td>1666284501496</td><td>c47e19af914a4f00ae0851268801c252</td><td>0</td><td>False</td></tr>",
                            "<tr><td>rmse</td><td>0.82224284975954</td><td>1666373428806</td><td>66cd6899156b44d1a3269cab61b3e3cf</td><td>0</td><td>False</td></tr>",
                            "<tr><td>r2</td><td>0.126787219727727</td><td>1666373429108</td><td>66cd6899156b44d1a3269cab61b3e3cf</td><td>0</td><td>False</td></tr>",
                            "<tr><td>mae</td><td>0.627876141016069</td><td>1666373429395</td><td>66cd6899156b44d1a3269cab61b3e3cf</td><td>0</td><td>False</td></tr>",
                            "<tr><td>training_mse</td><td>0.682639749182361</td><td>1666373884284</td><td>8edf15322c774ed1b4b5b85621966b01</td><td>0</td><td>False</td></tr>",
                            "<tr><td>training_mae</td><td>0.633809973977764</td><td>1666373884284</td><td>8edf15322c774ed1b4b5b85621966b01</td><td>0</td><td>False</td></tr>",
                            "<tr><td>training_r2_score</td><td>0.133126778322433</td><td>1666373884284</td><td>8edf15322c774ed1b4b5b85621966b01</td><td>0</td><td>False</td></tr>",
                            "<tr><td>training_rmse</td><td>0.826220157816524</td><td>1666373884284</td><td>8edf15322c774ed1b4b5b85621966b01</td><td>0</td><td>False</td></tr>",
                            "<tr><td>training_score</td><td>0.133126778322433</td><td>1666373884297</td><td>8edf15322c774ed1b4b5b85621966b01</td><td>0</td><td>False</td></tr>",
                            "<tr><td>rmse</td><td>0.82224284975954</td><td>1666373889359</td><td>8edf15322c774ed1b4b5b85621966b01</td><td>0</td><td>False</td></tr>",
                            "<tr><td>r2</td><td>0.126787219727727</td><td>1666373889657</td><td>8edf15322c774ed1b4b5b85621966b01</td><td>0</td><td>False</td></tr>",
                            "<tr><td>mae</td><td>0.627876141016069</td><td>1666373889958</td><td>8edf15322c774ed1b4b5b85621966b01</td><td>0</td><td>False</td></tr>",
                            "<tr><td>training_mse</td><td>0.682639749182361</td><td>1666374159417</td><td>5b095b96a4854e2c8ecd42f8a954f235</td><td>0</td><td>False</td></tr>",
                            "<tr><td>training_mae</td><td>0.633809973977764</td><td>1666374159417</td><td>5b095b96a4854e2c8ecd42f8a954f235</td><td>0</td><td>False</td></tr>",
                            "<tr><td>training_r2_score</td><td>0.133126778322433</td><td>1666374159417</td><td>5b095b96a4854e2c8ecd42f8a954f235</td><td>0</td><td>False</td></tr>",
                            "<tr><td>training_rmse</td><td>0.826220157816524</td><td>1666374159417</td><td>5b095b96a4854e2c8ecd42f8a954f235</td><td>0</td><td>False</td></tr>",
                            "<tr><td>training_score</td><td>0.133126778322433</td><td>1666374159438</td><td>5b095b96a4854e2c8ecd42f8a954f235</td><td>0</td><td>False</td></tr>",
                            "<tr><td>rmse</td><td>0.82224284975954</td><td>1666374165103</td><td>e1192c7d0bda4ee5b88a3d5701ccf2ad</td><td>0</td><td>False</td></tr>",
                            "<tr><td>r2</td><td>0.126787219727727</td><td>1666374165401</td><td>e1192c7d0bda4ee5b88a3d5701ccf2ad</td><td>0</td><td>False</td></tr>",
                            "<tr><td>mae</td><td>0.627876141016069</td><td>1666374165709</td><td>e1192c7d0bda4ee5b88a3d5701ccf2ad</td><td>0</td><td>False</td></tr>",
                            "</table>"
                        ]
                    }
                }
            ],
            "execution_count": 3
        },
        {
            "cell_type": "code",
            "source": [
                "SELECT *\n",
                "FROM public.params"
            ],
            "metadata": {
                "language": "sql",
                "azdata_cell_guid": "06f58c73-500b-4bec-bf64-f85e08db9c20"
            },
            "outputs": [
                {
                    "output_type": "display_data",
                    "data": {
                        "text/html": "(29 row(s) affected)"
                    },
                    "metadata": {}
                },
                {
                    "output_type": "display_data",
                    "data": {
                        "text/html": "Total execution time: 00:00:01.166"
                    },
                    "metadata": {}
                },
                {
                    "output_type": "execute_result",
                    "metadata": {},
                    "execution_count": 4,
                    "data": {
                        "application/vnd.dataresource+json": {
                            "schema": {
                                "fields": [
                                    {
                                        "name": "key"
                                    },
                                    {
                                        "name": "value"
                                    },
                                    {
                                        "name": "run_uuid"
                                    }
                                ]
                            },
                            "data": [
                                {
                                    "0": "param1",
                                    "1": "5",
                                    "2": "c47e19af914a4f00ae0851268801c252"
                                },
                                {
                                    "0": "alpha",
                                    "1": "0.5",
                                    "2": "66cd6899156b44d1a3269cab61b3e3cf"
                                },
                                {
                                    "0": "l1_ratio",
                                    "1": "0.5",
                                    "2": "66cd6899156b44d1a3269cab61b3e3cf"
                                },
                                {
                                    "0": "alpha",
                                    "1": "0.5",
                                    "2": "8edf15322c774ed1b4b5b85621966b01"
                                },
                                {
                                    "0": "copy_X",
                                    "1": "True",
                                    "2": "8edf15322c774ed1b4b5b85621966b01"
                                },
                                {
                                    "0": "fit_intercept",
                                    "1": "True",
                                    "2": "8edf15322c774ed1b4b5b85621966b01"
                                },
                                {
                                    "0": "l1_ratio",
                                    "1": "0.5",
                                    "2": "8edf15322c774ed1b4b5b85621966b01"
                                },
                                {
                                    "0": "max_iter",
                                    "1": "1000",
                                    "2": "8edf15322c774ed1b4b5b85621966b01"
                                },
                                {
                                    "0": "normalize",
                                    "1": "deprecated",
                                    "2": "8edf15322c774ed1b4b5b85621966b01"
                                },
                                {
                                    "0": "positive",
                                    "1": "False",
                                    "2": "8edf15322c774ed1b4b5b85621966b01"
                                },
                                {
                                    "0": "precompute",
                                    "1": "False",
                                    "2": "8edf15322c774ed1b4b5b85621966b01"
                                },
                                {
                                    "0": "random_state",
                                    "1": "42",
                                    "2": "8edf15322c774ed1b4b5b85621966b01"
                                },
                                {
                                    "0": "selection",
                                    "1": "cyclic",
                                    "2": "8edf15322c774ed1b4b5b85621966b01"
                                },
                                {
                                    "0": "tol",
                                    "1": "0.0001",
                                    "2": "8edf15322c774ed1b4b5b85621966b01"
                                },
                                {
                                    "0": "warm_start",
                                    "1": "False",
                                    "2": "8edf15322c774ed1b4b5b85621966b01"
                                },
                                {
                                    "0": "alpha",
                                    "1": "0.5",
                                    "2": "5b095b96a4854e2c8ecd42f8a954f235"
                                },
                                {
                                    "0": "copy_X",
                                    "1": "True",
                                    "2": "5b095b96a4854e2c8ecd42f8a954f235"
                                },
                                {
                                    "0": "fit_intercept",
                                    "1": "True",
                                    "2": "5b095b96a4854e2c8ecd42f8a954f235"
                                },
                                {
                                    "0": "l1_ratio",
                                    "1": "0.5",
                                    "2": "5b095b96a4854e2c8ecd42f8a954f235"
                                },
                                {
                                    "0": "max_iter",
                                    "1": "1000",
                                    "2": "5b095b96a4854e2c8ecd42f8a954f235"
                                },
                                {
                                    "0": "normalize",
                                    "1": "deprecated",
                                    "2": "5b095b96a4854e2c8ecd42f8a954f235"
                                },
                                {
                                    "0": "positive",
                                    "1": "False",
                                    "2": "5b095b96a4854e2c8ecd42f8a954f235"
                                },
                                {
                                    "0": "precompute",
                                    "1": "False",
                                    "2": "5b095b96a4854e2c8ecd42f8a954f235"
                                },
                                {
                                    "0": "random_state",
                                    "1": "42",
                                    "2": "5b095b96a4854e2c8ecd42f8a954f235"
                                },
                                {
                                    "0": "selection",
                                    "1": "cyclic",
                                    "2": "5b095b96a4854e2c8ecd42f8a954f235"
                                },
                                {
                                    "0": "tol",
                                    "1": "0.0001",
                                    "2": "5b095b96a4854e2c8ecd42f8a954f235"
                                },
                                {
                                    "0": "warm_start",
                                    "1": "False",
                                    "2": "5b095b96a4854e2c8ecd42f8a954f235"
                                },
                                {
                                    "0": "alpha",
                                    "1": "0.5",
                                    "2": "e1192c7d0bda4ee5b88a3d5701ccf2ad"
                                },
                                {
                                    "0": "l1_ratio",
                                    "1": "0.5",
                                    "2": "e1192c7d0bda4ee5b88a3d5701ccf2ad"
                                }
                            ]
                        },
                        "text/html": [
                            "<table>",
                            "<tr><th>key</th><th>value</th><th>run_uuid</th></tr>",
                            "<tr><td>param1</td><td>5</td><td>c47e19af914a4f00ae0851268801c252</td></tr>",
                            "<tr><td>alpha</td><td>0.5</td><td>66cd6899156b44d1a3269cab61b3e3cf</td></tr>",
                            "<tr><td>l1_ratio</td><td>0.5</td><td>66cd6899156b44d1a3269cab61b3e3cf</td></tr>",
                            "<tr><td>alpha</td><td>0.5</td><td>8edf15322c774ed1b4b5b85621966b01</td></tr>",
                            "<tr><td>copy_X</td><td>True</td><td>8edf15322c774ed1b4b5b85621966b01</td></tr>",
                            "<tr><td>fit_intercept</td><td>True</td><td>8edf15322c774ed1b4b5b85621966b01</td></tr>",
                            "<tr><td>l1_ratio</td><td>0.5</td><td>8edf15322c774ed1b4b5b85621966b01</td></tr>",
                            "<tr><td>max_iter</td><td>1000</td><td>8edf15322c774ed1b4b5b85621966b01</td></tr>",
                            "<tr><td>normalize</td><td>deprecated</td><td>8edf15322c774ed1b4b5b85621966b01</td></tr>",
                            "<tr><td>positive</td><td>False</td><td>8edf15322c774ed1b4b5b85621966b01</td></tr>",
                            "<tr><td>precompute</td><td>False</td><td>8edf15322c774ed1b4b5b85621966b01</td></tr>",
                            "<tr><td>random_state</td><td>42</td><td>8edf15322c774ed1b4b5b85621966b01</td></tr>",
                            "<tr><td>selection</td><td>cyclic</td><td>8edf15322c774ed1b4b5b85621966b01</td></tr>",
                            "<tr><td>tol</td><td>0.0001</td><td>8edf15322c774ed1b4b5b85621966b01</td></tr>",
                            "<tr><td>warm_start</td><td>False</td><td>8edf15322c774ed1b4b5b85621966b01</td></tr>",
                            "<tr><td>alpha</td><td>0.5</td><td>5b095b96a4854e2c8ecd42f8a954f235</td></tr>",
                            "<tr><td>copy_X</td><td>True</td><td>5b095b96a4854e2c8ecd42f8a954f235</td></tr>",
                            "<tr><td>fit_intercept</td><td>True</td><td>5b095b96a4854e2c8ecd42f8a954f235</td></tr>",
                            "<tr><td>l1_ratio</td><td>0.5</td><td>5b095b96a4854e2c8ecd42f8a954f235</td></tr>",
                            "<tr><td>max_iter</td><td>1000</td><td>5b095b96a4854e2c8ecd42f8a954f235</td></tr>",
                            "<tr><td>normalize</td><td>deprecated</td><td>5b095b96a4854e2c8ecd42f8a954f235</td></tr>",
                            "<tr><td>positive</td><td>False</td><td>5b095b96a4854e2c8ecd42f8a954f235</td></tr>",
                            "<tr><td>precompute</td><td>False</td><td>5b095b96a4854e2c8ecd42f8a954f235</td></tr>",
                            "<tr><td>random_state</td><td>42</td><td>5b095b96a4854e2c8ecd42f8a954f235</td></tr>",
                            "<tr><td>selection</td><td>cyclic</td><td>5b095b96a4854e2c8ecd42f8a954f235</td></tr>",
                            "<tr><td>tol</td><td>0.0001</td><td>5b095b96a4854e2c8ecd42f8a954f235</td></tr>",
                            "<tr><td>warm_start</td><td>False</td><td>5b095b96a4854e2c8ecd42f8a954f235</td></tr>",
                            "<tr><td>alpha</td><td>0.5</td><td>e1192c7d0bda4ee5b88a3d5701ccf2ad</td></tr>",
                            "<tr><td>l1_ratio</td><td>0.5</td><td>e1192c7d0bda4ee5b88a3d5701ccf2ad</td></tr>",
                            "</table>"
                        ]
                    }
                }
            ],
            "execution_count": 4
        },
        {
            "cell_type": "code",
            "source": [
                "SELECT *\n",
                "FROM public.model_versions"
            ],
            "metadata": {
                "language": "sql",
                "azdata_cell_guid": "6eae75fb-712d-4df8-b0c6-800137671baf"
            },
            "outputs": [
                {
                    "output_type": "display_data",
                    "data": {
                        "text/html": "(1 row(s) affected)"
                    },
                    "metadata": {}
                },
                {
                    "output_type": "display_data",
                    "data": {
                        "text/html": "Total execution time: 00:00:00.227"
                    },
                    "metadata": {}
                },
                {
                    "output_type": "execute_result",
                    "metadata": {},
                    "execution_count": 5,
                    "data": {
                        "application/vnd.dataresource+json": {
                            "schema": {
                                "fields": [
                                    {
                                        "name": "name"
                                    },
                                    {
                                        "name": "version"
                                    },
                                    {
                                        "name": "creation_time"
                                    },
                                    {
                                        "name": "last_updated_time"
                                    },
                                    {
                                        "name": "description"
                                    },
                                    {
                                        "name": "user_id"
                                    },
                                    {
                                        "name": "current_stage"
                                    },
                                    {
                                        "name": "source"
                                    },
                                    {
                                        "name": "run_id"
                                    },
                                    {
                                        "name": "status"
                                    },
                                    {
                                        "name": "status_message"
                                    },
                                    {
                                        "name": "run_link"
                                    }
                                ]
                            },
                            "data": [
                                {
                                    "0": "mlflops",
                                    "1": "1",
                                    "2": "1666374284679",
                                    "3": "1666374284679",
                                    "4": "NULL",
                                    "5": "NULL",
                                    "6": "None",
                                    "7": "./mlflowruns/0/66cd6899156b44d1a3269cab61b3e3cf/artifacts/model",
                                    "8": "66cd6899156b44d1a3269cab61b3e3cf",
                                    "9": "READY",
                                    "10": "NULL",
                                    "11": "NULL"
                                }
                            ]
                        },
                        "text/html": [
                            "<table>",
                            "<tr><th>name</th><th>version</th><th>creation_time</th><th>last_updated_time</th><th>description</th><th>user_id</th><th>current_stage</th><th>source</th><th>run_id</th><th>status</th><th>status_message</th><th>run_link</th></tr>",
                            "<tr><td>mlflops</td><td>1</td><td>1666374284679</td><td>1666374284679</td><td>NULL</td><td>NULL</td><td>None</td><td>./mlflowruns/0/66cd6899156b44d1a3269cab61b3e3cf/artifacts/model</td><td>66cd6899156b44d1a3269cab61b3e3cf</td><td>READY</td><td>NULL</td><td>NULL</td></tr>",
                            "</table>"
                        ]
                    }
                }
            ],
            "execution_count": 5
        },
        {
            "cell_type": "code",
            "source": [
                "SELECT *\n",
                "FROM public.runs"
            ],
            "metadata": {
                "language": "sql",
                "azdata_cell_guid": "74333129-ad9d-4165-88ba-e5b0b3042c26"
            },
            "outputs": [
                {
                    "output_type": "display_data",
                    "data": {
                        "text/html": "(5 row(s) affected)"
                    },
                    "metadata": {}
                },
                {
                    "output_type": "display_data",
                    "data": {
                        "text/html": "Total execution time: 00:00:00.215"
                    },
                    "metadata": {}
                },
                {
                    "output_type": "execute_result",
                    "metadata": {},
                    "execution_count": 6,
                    "data": {
                        "application/vnd.dataresource+json": {
                            "schema": {
                                "fields": [
                                    {
                                        "name": "run_uuid"
                                    },
                                    {
                                        "name": "name"
                                    },
                                    {
                                        "name": "source_type"
                                    },
                                    {
                                        "name": "source_name"
                                    },
                                    {
                                        "name": "entry_point_name"
                                    },
                                    {
                                        "name": "user_id"
                                    },
                                    {
                                        "name": "status"
                                    },
                                    {
                                        "name": "start_time"
                                    },
                                    {
                                        "name": "end_time"
                                    },
                                    {
                                        "name": "source_version"
                                    },
                                    {
                                        "name": "lifecycle_stage"
                                    },
                                    {
                                        "name": "artifact_uri"
                                    },
                                    {
                                        "name": "experiment_id"
                                    },
                                    {
                                        "name": "deleted_time"
                                    }
                                ]
                            },
                            "data": [
                                {
                                    "0": "c47e19af914a4f00ae0851268801c252",
                                    "1": "NULL",
                                    "2": "UNKNOWN",
                                    "3": "NULL",
                                    "4": "NULL",
                                    "5": "mmartin",
                                    "6": "FINISHED",
                                    "7": "1666284499807",
                                    "8": "1666284502648",
                                    "9": "NULL",
                                    "10": "active",
                                    "11": "./mlflowruns/0/c47e19af914a4f00ae0851268801c252/artifacts",
                                    "12": "0",
                                    "13": "NULL"
                                },
                                {
                                    "0": "66cd6899156b44d1a3269cab61b3e3cf",
                                    "1": "NULL",
                                    "2": "UNKNOWN",
                                    "3": "NULL",
                                    "4": "NULL",
                                    "5": "mmartin",
                                    "6": "FINISHED",
                                    "7": "1666373427576",
                                    "8": "1666373433547",
                                    "9": "NULL",
                                    "10": "active",
                                    "11": "./mlflowruns/0/66cd6899156b44d1a3269cab61b3e3cf/artifacts",
                                    "12": "0",
                                    "13": "NULL"
                                },
                                {
                                    "0": "8edf15322c774ed1b4b5b85621966b01",
                                    "1": "NULL",
                                    "2": "UNKNOWN",
                                    "3": "NULL",
                                    "4": "NULL",
                                    "5": "mmartin",
                                    "6": "FINISHED",
                                    "7": "1666373883778",
                                    "8": "1666373890261",
                                    "9": "NULL",
                                    "10": "active",
                                    "11": "./mlflowruns/0/8edf15322c774ed1b4b5b85621966b01/artifacts",
                                    "12": "0",
                                    "13": "NULL"
                                },
                                {
                                    "0": "5b095b96a4854e2c8ecd42f8a954f235",
                                    "1": "NULL",
                                    "2": "UNKNOWN",
                                    "3": "NULL",
                                    "4": "NULL",
                                    "5": "mmartin",
                                    "6": "FINISHED",
                                    "7": "1666374158969",
                                    "8": "1666374163765",
                                    "9": "NULL",
                                    "10": "active",
                                    "11": "./mlflowruns/0/5b095b96a4854e2c8ecd42f8a954f235/artifacts",
                                    "12": "0",
                                    "13": "NULL"
                                },
                                {
                                    "0": "e1192c7d0bda4ee5b88a3d5701ccf2ad",
                                    "1": "NULL",
                                    "2": "UNKNOWN",
                                    "3": "NULL",
                                    "4": "NULL",
                                    "5": "mmartin",
                                    "6": "FINISHED",
                                    "7": "1666374164123",
                                    "8": "1666374166022",
                                    "9": "NULL",
                                    "10": "active",
                                    "11": "./mlflowruns/0/e1192c7d0bda4ee5b88a3d5701ccf2ad/artifacts",
                                    "12": "0",
                                    "13": "NULL"
                                }
                            ]
                        },
                        "text/html": [
                            "<table>",
                            "<tr><th>run_uuid</th><th>name</th><th>source_type</th><th>source_name</th><th>entry_point_name</th><th>user_id</th><th>status</th><th>start_time</th><th>end_time</th><th>source_version</th><th>lifecycle_stage</th><th>artifact_uri</th><th>experiment_id</th><th>deleted_time</th></tr>",
                            "<tr><td>c47e19af914a4f00ae0851268801c252</td><td>NULL</td><td>UNKNOWN</td><td>NULL</td><td>NULL</td><td>mmartin</td><td>FINISHED</td><td>1666284499807</td><td>1666284502648</td><td>NULL</td><td>active</td><td>./mlflowruns/0/c47e19af914a4f00ae0851268801c252/artifacts</td><td>0</td><td>NULL</td></tr>",
                            "<tr><td>66cd6899156b44d1a3269cab61b3e3cf</td><td>NULL</td><td>UNKNOWN</td><td>NULL</td><td>NULL</td><td>mmartin</td><td>FINISHED</td><td>1666373427576</td><td>1666373433547</td><td>NULL</td><td>active</td><td>./mlflowruns/0/66cd6899156b44d1a3269cab61b3e3cf/artifacts</td><td>0</td><td>NULL</td></tr>",
                            "<tr><td>8edf15322c774ed1b4b5b85621966b01</td><td>NULL</td><td>UNKNOWN</td><td>NULL</td><td>NULL</td><td>mmartin</td><td>FINISHED</td><td>1666373883778</td><td>1666373890261</td><td>NULL</td><td>active</td><td>./mlflowruns/0/8edf15322c774ed1b4b5b85621966b01/artifacts</td><td>0</td><td>NULL</td></tr>",
                            "<tr><td>5b095b96a4854e2c8ecd42f8a954f235</td><td>NULL</td><td>UNKNOWN</td><td>NULL</td><td>NULL</td><td>mmartin</td><td>FINISHED</td><td>1666374158969</td><td>1666374163765</td><td>NULL</td><td>active</td><td>./mlflowruns/0/5b095b96a4854e2c8ecd42f8a954f235/artifacts</td><td>0</td><td>NULL</td></tr>",
                            "<tr><td>e1192c7d0bda4ee5b88a3d5701ccf2ad</td><td>NULL</td><td>UNKNOWN</td><td>NULL</td><td>NULL</td><td>mmartin</td><td>FINISHED</td><td>1666374164123</td><td>1666374166022</td><td>NULL</td><td>active</td><td>./mlflowruns/0/e1192c7d0bda4ee5b88a3d5701ccf2ad/artifacts</td><td>0</td><td>NULL</td></tr>",
                            "</table>"
                        ]
                    }
                }
            ],
            "execution_count": 6
        }
    ]
}